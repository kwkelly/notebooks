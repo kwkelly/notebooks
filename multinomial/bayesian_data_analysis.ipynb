{
 "cells": [
  {
   "cell_type": "markdown",
   "metadata": {},
   "source": [
    "# Analyzing ratings data in a Bayesian Framework\n",
    "\n",
    "The Problem: Suppose you go to Amazon in search of a book on Bayesian statistics and enter \"Bayesian statistics\" as your search query. You obviously want the best book, so you go and sort by average rating. The result is a bunch of books with relatively few ratings, all of which are very high.\n",
    "\n",
    "![](search_results.png)\n",
    "\n",
    "Now I'm sure that these are all great books, but the issue is that there aren't enough ratings to give a good estimate of what the *true* average rating is for each of these books. \n",
    "\n",
    "The fix: We can use Bayesian data analysis to incorporate the lack of information and uncertainty into our estimate of the true mean.\n",
    "\n",
    "The inspuration: I saw Erk Bernhardsson's post [*Analyzing a small dataset with 1-5 ratings*](https://erikbern.com/2015/12/05/more-mcmc-analyzing-a-small-dataset-with-1-5-ratings/) and thought I would expand on it and show another example.\n",
    "Note that the code appears to be missing from his post.\n",
    "\n",
    "But let's take a step back, introduce Bayesian inference, do a simple example, and then apply what we've learned to the problem at hand."
   ]
  },
  {
   "cell_type": "markdown",
   "metadata": {},
   "source": [
    "## A quick introduction to Bayesian inference\n",
    "\n",
    "Note: This really quick introduction to Bayesian data analysis will roughly follow and occasionally borrow material from [Bayesian Data Analysis](http://www.stat.columbia.edu/~gelman/book/) by Andrew Gelman, John Carlin, Hal Stern, David Dunson, Aki Vehtari, and Donald Rubin.\n",
    "Any unattributed quotes are from this book.\n",
    "\n",
    "### What is Bayesian inference?\n",
    "\n",
    "Well first, what is statistical inference?\n",
    "Statistical inference is the process of determining the parameters of an underlying probability distribution based on some data.\n",
    "So, for example, given sex data on a bunch of births, can we estimate the true probability of a male or female birth?\n",
    "\n",
    "Bayesian inerence, then, is using [Bayes' theorem](https://en.wikipedia.org/wiki/Bayes%27_theorem) to perform statistical inference.\n",
    "From Gelman, et al:\n",
    "> Bayesian inference is the process of fitting a probability model to a set of data and summarizing the result by a probability distribution on the parameters of the model and on unobserved quantities such as predictions for new observations. \n",
    "\n",
    "### Traditional and Bayesian inference example\n",
    "#### Traditional Inference method\n",
    "\n",
    "Let's continue with the example of male and female births from above.\n",
    "In the 18th century Laplace attempted to estimate the female birth rate in Paris.\n",
    "He found that 241,945 girls and 251,527 boys were born in Paris between 1745 and 1770.\n",
    "\n",
    "Using traditional inference methods first, let's estimate what the true proportion of female births in Paris is.\n",
    "We assume that the birth data is drawn from a [binomial distribution](https://en.wikipedia.org/wiki/Binomial_distribution), which is a \"discrete probability distribution of the number of successes in a sequence of $n$ independent yes/no experiments, each of which yields success with probability $p$.\"\n",
    "\n",
    "The estimate for the proportion is just the ratio of female briths to total births.\n",
    "\n",
    "$$\\hat{p} = \\frac{\\text{# girl births}}{\\text{# total births}} = \\frac{241,945}{241,945+251,527} \\approx 0.490$$\n",
    "\n",
    "How certain are we of this estimate though?\n",
    "How wide is the range of values that the true number of births could take on?\n",
    "To answer these questions we need to compute a confidence interval and perform a statistical hypothesis test.\n",
    "\n",
    "Let's start with a hypothesis test for the true parameter $p$ to see if it is statistically different from $\\frac{1}{2}$.\n",
    "[//]: # (http://stats.stackexchange.com/questions/113602/test-if-two-binomial-distributions-are-statistically-different-from-each-other)\n",
    "To perform a hypothesis test for a binomial proportion we first need a null hypothesis $H_0$.\n",
    "Our null hypothesis is of course that the true birth rate for females is the same as that of males, i.e. $H_0: \\hat{p}=p_0 = 0.5$.\n",
    "Our alternative hypothesis is that the birth rates are not equal, i.e. $H_A: \\hat{p} \\ne p_0$.\n",
    "\n",
    "The test statistic that we need is a one-proportion z-test:\n",
    "\n",
    "$$\n",
    "z = \\frac{\\hat{p} - p_0}{\\sqrt{p_0(1-p_0)}}\\sqrt{n}.\n",
    "$$\n",
    "\n",
    "Plugging in:"
   ]
  },
  {
   "cell_type": "code",
   "execution_count": 1,
   "metadata": {
    "collapsed": false
   },
   "outputs": [
    {
     "name": "stdout",
     "output_type": "stream",
     "text": [
      "-13.640330988151018\n"
     ]
    }
   ],
   "source": [
    "from math import sqrt\n",
    "\n",
    "def one_prop_z(p_hat, p_0, n):\n",
    "    z = (p_hat - p_0)/sqrt(p_0*(1-p_0))*(sqrt(n))\n",
    "    return z\n",
    "\n",
    "female_births = 241945\n",
    "male_births = 251527\n",
    "n = female_births + male_births\n",
    "p_hat = female_births/n\n",
    "\n",
    "print(one_prop_z(p_hat, 0.5, n))"
   ]
  },
  {
   "cell_type": "markdown",
   "metadata": {},
   "source": [
    "Since our computed z-score is -13.6 < -1.96, we can reject the null hypothesis and conclude that the true proportion is not $0.5$.\n",
    "\n",
    "Now let's compute a [binomial proportion confidence interval](https://en.wikipedia.org/wiki/Binomial_proportion_confidence_interval).\n",
    "We have a lot of data so we don't need to compute the Wilson score interval and can use the normal approximation, but let's do both.\n",
    "\n",
    "Aside: For those of you familiar with reddit, their \"best\" ranking uses the lower bound of the Wilson score confidence interval of upvotes and downvotes to get a pessimistic estimate of the true upvote and downvote ratio of the link. This keeps links with just one upvote from being ranked highly, even though the score is basically perfect. You can see the code [here](https://github.com/reddit/reddit/blob/master/r2/r2/lib/db/_sorts.pyx). The \"hot\" ranking is pretty neat too.\n",
    "\n",
    "The Wilson score interval is given by\n",
    "$$\n",
    "\\frac{1}{1 + \\frac{1}{n} z^2}\n",
    "  \\left[\n",
    "    \\hat{p} + \\frac{1}{2n} z^2 \\pm\n",
    "    z \\sqrt{\n",
    "      \\frac{1}{n}\\hat{p} \\left(1 - \\hat{p}\\right) +\n",
    "      \\frac{1}{4n^2}z^2\n",
    "    } \n",
    "   \\right]\n",
    "$$\n",
    "where $z$ is the z-score for the $1-\\frac{1}{2}\\alpha$ quantile of the standard normal distribution. In our case, we'll compute a 95% conifdence interval, so $\\alpha = 0.05$ and $z=1.96$.\n",
    "\n",
    "The normal approximation interval is \n",
    "$$\n",
    "\\hat{p} \\pm z\\sqrt{\\frac{1}{n}\\hat{p}(1-\\hat{p})}.\n",
    "$$\n",
    "\n",
    "Let's compute them."
   ]
  },
  {
   "cell_type": "code",
   "execution_count": 2,
   "metadata": {
    "collapsed": false
   },
   "outputs": [
    {
     "name": "stdout",
     "output_type": "stream",
     "text": [
      "Wilson score interval: (0.4888965202876094, 0.4916861157965965)\n",
      "Normal approx interval: (0.4895796081852655, 0.49100287673789117)\n"
     ]
    }
   ],
   "source": [
    "from math import sqrt\n",
    "\n",
    "def wilson_score_interval(p_hat, n, z):\n",
    "    pm = z*sqrt(p_hat*(1-p_hat)/n + z**2/(4*n**2))\n",
    "    inner = p_hat + z**2/(2*n)\n",
    "    outer =(1/(1+z**2/n))\n",
    "    lower_bound = outer*(inner - pm)\n",
    "    upper_bound = outer*(inner + pm)\n",
    "    return lower_bound, upper_bound\n",
    "\n",
    "def normal_approx_interval(p_hat, n, z):\n",
    "    right = sqrt(p_hat*(1-p_hat)/n)\n",
    "    lower = p_hat - right\n",
    "    upper = p_hat + right\n",
    "    return lower, upper\n",
    "\n",
    "female_births = 241945\n",
    "male_births = 251527\n",
    "z = 1.96\n",
    "n = female_births + male_births\n",
    "p_hat = female_births/n\n",
    "\n",
    "print(\"Wilson score interval: {}\".format(wilson_score_interval(p_hat, n, z)))\n",
    "print(\"Normal approx interval: {}\".format(normal_approx_interval(p_hat, n, z)))\n",
    "\n",
    "\n",
    "\n"
   ]
  },
  {
   "cell_type": "markdown",
   "metadata": {},
   "source": [
    "We see that the normal approximation interval and the Wilson score interval are very close, and that neither contain $0.5$. This confirms that the true proportion is very likely not 0.5, but is in fact lower.\n",
    "\n",
    "#### Bayesian Inference method\n",
    "\n",
    "Now we are going to do estimate the true proportion of male and female births using Bayesian inference.\n",
    "Bayes' rule tells us that we can compute the distribution of the paramater conditional on the data in the following way:\n",
    "\n",
    "Let $\\theta$ be the parameter (or parameters) of interest and let $y$ be the data that's been collected. \n",
    "We assume that the data comes from a distribution condiitional on $\\theta$ $p(y|\\theta)$.\n",
    "This is called the *likelihood* or the *sampling distribution*.\n",
    "We assume further that the parameter is a random variable from another distribution $p(\\theta)$ called the *prior*.\n",
    "The prior represents our prior (before looking at our data) beliefs about the parameters. \n",
    "Note that while we used $p$ for both the likelihood and the prior, that $p$ is in fact two different distributions distinguished by the parameters.\n",
    "It is an abuse of notation for convenience and the different parameters of each distribution indicate to the reader that they are different.\n",
    "Using $p(y|\\theta)$ and $p(\\theta)$ we have\n",
    "$$\n",
    "p(\\theta,y) = p(y,\\theta) = p(y|\\theta)p(\\theta)\n",
    "$$\n",
    "If we have also the marginal distribtution of $y$, \n",
    "$$p(y) = \\int p(y,\\theta)d\\theta = \\int p(y|\\theta)p(\\theta)d\\theta.\n",
    "$$\n",
    "then we can compute the distribution for $\\theta$ conditional upon $y$ simply by conditioning the joint $p(\\theta,y)$ on $y$.\n",
    "Concretely,\n",
    "$$\n",
    "p(\\theta|y) = \\frac{p(y|\\theta)p(\\theta)}{p(y)},\n",
    "$$\n",
    "which is precisely the distribution of the parameter conditional upon the data, called the *posterior distribution* that we were seeking.\n",
    "\n",
    "However, since we are looking for $p(\\theta|y)$ as a function of $\\theta$, and since the marginal distribution of $y$ does not depend on $\\theta$, we also have\n",
    "$$\n",
    "p(\\theta|y) \\propto p(y|\\theta)p(\\theta).\n",
    "$$\n",
    "Essentially, $p(y)$ is constant so we can compute an unnormalized density function to avoid having to marginalize.\n",
    "This makes our lives easier and only puts us off the true posterior distribution by a constant factor.\n",
    "\n",
    "Back to trying to compute the true population birth proportion.\n",
    "Just as before, we assume that the data is sampled from a binomial distribution with unknown proportion parameter $p$, which we are going to relabel as $q$ since we are going to use $p$ for all of our pdfs.\n",
    "Let $g$ be the number of girls born and $n$ be the total number of births. Our likeihood pdf is then $p(g|q,n) = {n \\choose g} q^g(1-q)^{n-g}$.\n",
    "\n",
    "Now we need a prior which means we have to make a choice.\n",
    "How do we choose a prior? \n",
    "This [stats.se answer](http://stats.stackexchange.com/questions/78606/how-to-choose-prior-in-bayesian-parameter-estimation) gives a good overview. If you have access to *Introduction to Bayesian Statistics* by William M. Bolstad, there is an excellent discussion on choosing a prior for a binomial likelihood in section 8.3.\n",
    "\n",
    "We are actually going to do the analysis with two different choices of prior, a uniform (Laplace's choice) and a beta distribution ([conjugate prior](https://en.wikipedia.org/wiki/Conjugate_prior)).\n",
    "\n",
    "First the uniform prior.\n",
    "\n",
    "* Likelihood: $p(g|q,n) = {n \\choose g} q^g(1-q)^{n-g}$\n",
    "* Prior: $p(q|n) = 1$\n",
    "\n",
    "This gives:\n",
    "\n",
    "* Posterior: $p(q|g,n) \\propto p(g|q,n)p(q|n) = {n \\choose g} q^g(1-q)^{n-g} \\times 1 = {n \\choose g} q^g(1-q)^{n-g}$\n",
    "\n",
    "Now, even without know the constant of proportionality, we can recognize $p(q|g,n)$ as a [beta distribution](https://en.wikipedia.org/wiki/Beta_distribution)!\n",
    "That means we actually have the full, normalized distribution without having to compute marginal of $g$.\n",
    "\n",
    "* Posterior: $p(q|g,n) = \\frac{p(g|q,n)p(q|n)}{p(g|n)} =  \\frac{q^g(1-q)^{n-g}}{B(g+1,n-g+1)}$\n",
    "\n",
    "where $B$ is the [beta function](https://en.wikipedia.org/wiki/Beta_function).\n",
    "\n",
    "In other words, $q|g,n \\sim Beta(g+1,n-g+1)$.\n",
    "\n",
    "Using this we can get compute a credible interval, which is the Bayesian analog to a confidence interval."
   ]
  },
  {
   "cell_type": "code",
   "execution_count": 3,
   "metadata": {
    "collapsed": false
   },
   "outputs": [
    {
     "name": "stdout",
     "output_type": "stream",
     "text": [
      "0.48889654636\n",
      "0.491686091798\n"
     ]
    }
   ],
   "source": [
    "from scipy.stats import beta\n",
    "\n",
    "print(beta.ppf(0.025, 241945+1,251527+1))\n",
    "print(beta.ppf(0.975, 241945+1,251527+1))"
   ]
  },
  {
   "cell_type": "markdown",
   "metadata": {},
   "source": [
    "You'll notice that this is pretty much exactly what we got from the frequentist confidence interval.\n",
    "The key difference for us here is the interpretation of what this interval means.\n",
    "[Jake VanderPlas says it better than I ever could](http://jakevdp.github.io/blog/2014/06/12/frequentism-and-bayesianism-3-confidence-credibility/): \n",
    "\n",
    ">The above derivation is one reason why the frequentist confidence interval and the Bayesian credible region are so often confused. In many simple problems, they correspond exactly. But we must be clear that even though the two are numerically equivalent, their interpretation is very different.\n",
    "\n",
    ">Recall that in Bayesianism, the probability distributions reflect our degree of belief. So when we computed the credible region above, it's equivalent to saying\n",
    "\n",
    ">>\"Given our observed data, there is a 95% probability that the true value of μ falls within CRμ\" - Bayesians\n",
    "\n",
    ">In frequentism, on the other hand, μμ is considered a fixed value and the data (and all quantities derived from the data, including the bounds of the confidence interval) are random variables. So the frequentist confidence interval is equivalent to saying\n",
    "\n",
    ">>\"There is a 95% probability that when I compute CIμ from data of this sort, the true mean will fall within CIμ.\" - Frequentists\n",
    "\n",
    ">Note the difference: the Bayesian solution is a statement of probability about the parameter value given fixed bounds. The frequentist solution is a probability about the bounds given a fixed parameter value. This follows directly from the philosophical definitions of probability that the two approaches are based on.\n",
    "\n",
    "Now for the Beta prior. In this case we are going to use Beta(1/2,1/2) which is the [Jeffreys Prior](https://en.wikipedia.org/wiki/Jeffreys_prior). Even though this type of prior appears in [Yang and Berger's \"A Catalog of Noninformative Priors\" (pdf link)](http://www.stats.org.uk/priors/noninformative/YangBerger1998.pdf) it is not really a noninformative prior.\n",
    "\n",
    "As Bolstad says:\n",
    ">If we think of the parameter as an index of all possible densities the observation could come from, then any continuous function of the parameter would give an equally valid index. Jeffreys' method gives a pries that is invariant under any continuous transformation of the parameter. That means that Jeffreys' prior is objective in the sense that it does not depend on the particular parameterization we used. **However, for most parameterizations, the Jeffreys' prior gives more weight to some values than to others so it is usually informative, not noninformative.**\n",
    "\n",
    "* Likelihood: $p(g|q,n) = {n \\choose g} q^g(1-q)^{n-g}$\n",
    "* Prior: $p(q|n) = \\frac{q^{-1/2}(1-q)^{-1/2}}{B(1/2,1/2)}$\n",
    "\n",
    "This gives:\n",
    "\n",
    "* Posterior: $p(q|g,n) \\propto p(g|q,n)p(q|n) = {n \\choose g} q^g(1-q)^{n-g} \\times \\frac{q^{-1/2}(1-q)^{-1/2}}{B(1/2,1/2)} = {n \\choose g} \\frac{q^g(q-1/2)^{n-g-1/2}}{B(1/2,1/2)} = Beta(g+1/2, n-g+1/2)$\n",
    "\n",
    "\n",
    "Actually computing it, we get:"
   ]
  },
  {
   "cell_type": "code",
   "execution_count": 4,
   "metadata": {
    "collapsed": false
   },
   "outputs": [
    {
     "name": "stdout",
     "output_type": "stream",
     "text": [
      "0.488896525274\n",
      "0.491686073536\n"
     ]
    }
   ],
   "source": [
    "from scipy.stats import beta\n",
    "\n",
    "print(beta.ppf(0.025, 241945+1/2,251527+1/2))\n",
    "print(beta.ppf(0.975, 241945+1/2,251527+1/2))"
   ]
  },
  {
   "cell_type": "markdown",
   "metadata": {},
   "source": [
    "This is different, but not really.\n",
    "Neither of the priors make a huge difference because we have a preponderance of data.\n",
    "\n",
    "What if we don't want to do a bunch of algebra and comparing our distribution to known ones?\n",
    "We can simulate random draws from the posterior distribution without knowing what it is explicitly.\n",
    "This is useful for when our likelihood and our prior aren't so simple and compitable, and the posterior is consequently an ugly mess that isn't a known or well studied probability distribution.\n",
    "Using these draws from the posterior, we can get a Bayesion credibility interval by simply computing the middle 95% of the data.\n",
    "\n",
    "The following code shows how to do this."
   ]
  },
  {
   "cell_type": "code",
   "execution_count": 5,
   "metadata": {
    "collapsed": false
   },
   "outputs": [
    {
     "name": "stdout",
     "output_type": "stream",
     "text": [
      " [-----------------100%-----------------] 500000 of 500000 complete in 21.5 sec"
     ]
    },
    {
     "name": "stderr",
     "output_type": "stream",
     "text": [
      "/Users/keith/.virtualenvs/notebooks/lib/python3.5/site-packages/statsmodels/nonparametric/kdetools.py:20: VisibleDeprecationWarning: using a non-integer number instead of an integer will result in an error in the future\n",
      "  y = X[:m/2+1] + np.r_[0,X[m/2+1:],0]*1j\n"
     ]
    },
    {
     "data": {
      "image/png": "[encoded data removed]",
      "text/plain": [
       "<matplotlib.figure.Figure at 0x116d215f8>"
      ]
     },
     "metadata": {},
     "output_type": "display_data"
    },
    {
     "name": "stdout",
     "output_type": "stream",
     "text": [
      "(0.48889381223922224, 0.4916867923137298)\n"
     ]
    }
   ],
   "source": [
    "from pymc import *\n",
    "import seaborn as sns\n",
    "import numpy as np\n",
    "%matplotlib inline\n",
    "\n",
    "female_births = 241945\n",
    "male_births = 251527\n",
    "n = female_births + male_births\n",
    "\n",
    "prior = Uniform('prior', 0.0, 1.0)\n",
    "likelihood = Binomial('likelihood', n=n, p=prior, value=female_births, observed=True)\n",
    "model = Model([prior, likelihood])\n",
    "prior.value = 0.5\n",
    "#print(model.logp)\n",
    "\n",
    "mc = MCMC(model)\n",
    "mc.sample(iter=500000,burn=10000)\n",
    "sns.distplot(prior.trace())\n",
    "sns.plt.show()\n",
    "\n",
    "print(\"({}, {})\".format(np.percentile(prior.trace(), 2.5), np.percentile(prior.trace(), 97.5)))"
   ]
  },
  {
   "cell_type": "markdown",
   "metadata": {
    "collapsed": true
   },
   "source": [
    "Again, we see that the interval is essentially the same. \n",
    "This method of simulating draws from the posterior is called [Markov chain Monte Carlo](https://en.wikipedia.org/wiki/Markov_chain_Monte_Carlo) and is very general and very powerful.\n",
    "However, it may generate slow convergence.\n",
    "You'll notice we used 500,000 samples from the posterior to generate, but this may be unnecessary and there are [some diagnostics](https://pymc-devs.github.io/pymc/modelchecking.html) to discern whether the simulation has converged.\n",
    "\n",
    "## Back to our original problem with 1-5 ratings.\n",
    "\n",
    "Obviously the binomial distribution we used just before is not appropriate since it only models yes/no 1/0 type problems.\n",
    "What we need is a [multinomial distribution](https://en.wikipedia.org/wiki/Multinomial_distribution), which, as that Wikipedia link states, is\n",
    ">a generalization of the binomial distribution. For example it models the probability of counts for rolling a k sided die n times. For n independent trials each of which leads to a success for exactly one of k categories, with each category having a given fixed success probability, the multinomial distribution gives the probability of any particular combination of numbers of successes for the various categories.\n",
    "\n",
    "This is perfect for the likelihood for our problem.\n",
    "Let's consider the last book in the picture of the search results above: *Statistical Learning with Sparsity* by Hastie and Tibshirani (only because of the books in the picture, it has the fewest ratings. I'm sure it's a great book as they are two of the authors of the excellent *Elements of Statistical Learning*).\n",
    "We are going to use a [Dirichlet](https://en.wikipedia.org/wiki/Dirichlet_distribution) prior, which is conjugate to the multinomial distribution.\n",
    "As the multinomial distribution is a generalization of the binomial, the Dirichlet is a generalization of the beta distribution.\n",
    "\n",
    "So we have\n",
    "\n",
    "* Likelihood: $p(\\mathbf{r}|\\mathbf{p}) \\sim \\text{Multinomial}(\\mathbf{r}|\\mathbf{p})$ where $\\mathbf{r}$ is our data and $\\mathbf{p}$ is such that $\\sum_{i=1}^k \\mathbf{p}_i = 1$\n",
    "* Prior: $p(\\mathbf{p}|\\mathbf{\\alpha}) \\sim \\text{Dirichlet}(\\mathbf{p}|\\mathbf{\\alpha})$\n",
    "* Prior Hyperparameter: Notice that the prior is dependent on some variable $\\mathbf{\\alpha}$, which is a prior hyperparameter. In the case of the Dirchlet distribution it is a [pseudocount](https://en.wikipedia.org/wiki/Pseudocount), which means that it represents what we think the distribution of counts might be before hand. We're going to leave it level at all ones. \n",
    "\n",
    "This gives:\n",
    "\n",
    "* Posterior: $p(\\mathbf{p}|\\mathbf{\\alpha},\\mathbf{r}) \\sim \\text{Dirichlet}(\\mathbf{p}|\\mathbf{\\alpha} + \\mathbf{r})\n",
    "\n",
    "So our posterior for $\\mathbf{p}$, the probability parameter that controls how likely each rating is, is distributed Dirichlet with a parameter that's a sum of our assumed prior hyperparameter and our data. We can see now why choosing a flat, low info prior was a good idea – it gives a uniform initial distribution, but doesn't affect the result too much once we get some data.\n",
    "\n",
    "Anyway, using this, we can compute the posterior means analytically to be $(\\frac{1}{9},\\frac{1}{9},\\frac{1}{9},\\frac{1}{9},\\frac{5}{9})$, which represents our "
   ]
  },
  {
   "cell_type": "code",
   "execution_count": 15,
   "metadata": {
    "collapsed": false
   },
   "outputs": [
    {
     "name": "stdout",
     "output_type": "stream",
     "text": [
      " [-----------------100%-----------------] 500000 of 500000 complete in 45.7 sec(4.034906069290672e-05, 0.001224735125482726)\n"
     ]
    }
   ],
   "source": [
    "from pymc import *\n",
    "import seaborn as sns\n",
    "import numpy as np\n",
    "%matplotlib inline\n",
    "\n",
    "# of success for each possibility\n",
    "x = [0,0,0,0,4]\n",
    "n = sum(x)\n",
    "\n",
    "prior = Dirichlet(name=\"prior\", theta=[1,1,1,1,1])\n",
    "likelihood = Multinomial(name='likelihood', value=x, n=n, p=prior, observed=True)\n",
    "model = Model([prior, likelihood])\n",
    "\n",
    "mc = MCMC(model)\n",
    "mc.sample(iter=500000,burn=10000)\n",
    "\n",
    "\n",
    "\n",
    "print(\"({}, {})\".format(np.percentile(prior.trace(), 0.025), np.percentile(prior.trace(), 0.975)))"
   ]
  },
  {
   "cell_type": "code",
   "execution_count": 16,
   "metadata": {
    "collapsed": false
   },
   "outputs": [
    {
     "name": "stderr",
     "output_type": "stream",
     "text": [
      "/Users/keith/.virtualenvs/notebooks/lib/python3.5/site-packages/statsmodels/nonparametric/kdetools.py:20: VisibleDeprecationWarning: using a non-integer number instead of an integer will result in an error in the future\n",
      "  y = X[:m/2+1] + np.r_[0,X[m/2+1:],0]*1j\n"
     ]
    },
    {
     "name": "stdout",
     "output_type": "stream",
     "text": [
      "(0.003010774907922919, 0.380500212706883)\n",
      "(0.00322203712556267, 0.37820316072720495)\n",
      "(0.003124093734438364, 0.37575723113970955)\n",
      "(0.0032067570456246405, 0.37314851535147125)\n",
      "(0.2412569164556213, 0.8419023666523914)\n"
     ]
    },
    {
     "data": {
      "image/png": "[encoded data removed]",
      "text/plain": [
       "<matplotlib.figure.Figure at 0x11cc218d0>"
      ]
     },
     "metadata": {},
     "output_type": "display_data"
    },
    {
     "name": "stdout",
     "output_type": "stream",
     "text": [
      "[ 0.10977334  0.11159505  0.11363853  0.1116608   0.55333229]\n",
      "Average rating estimate is: 3.8871836433290317\n"
     ]
    }
   ],
   "source": [
    "import matplotlib.pyplot as plt\n",
    "\n",
    "a = prior.trace()\n",
    "b = np.array([1 - a.sum(axis=1)]).T\n",
    "a = np.append(a,b,1)\n",
    "for i, label in enumerate(['1', '2', '3', '4', '5']):\n",
    "    sns.distplot(a[:,i],label=label)\n",
    "    print(\"({}, {})\".format(np.percentile(a[:,i], 2.5), np.percentile(a[:,i], 97.5)))\n",
    "plt.legend()\n",
    "sns.plt.show()\n",
    "means = np.mean([a[:,i] for i in range(5)],axis=1)\n",
    "print(means)\n",
    "\n",
    "score = np.sum((means[i]*(i+1) for i in range(5)))\n",
    "print(\"Average rating estimate is: {}\".format(score))"
   ]
  },
  {
   "cell_type": "markdown",
   "metadata": {},
   "source": [
    "So we see that our computed means just about agree with the analytical ones at around $\\frac{1}{9}$ for all the ratings except the last one which is $\\frac{5}{9}$. \n",
    "We use this (or the analytical result) to estimate the true rating for the book to be at around 3.8 stars. Still a good rating, but not the 5 star average it gets otherwise.\n",
    "We can temper our rating even more by giving more weight in our prior hyperparameters.\n",
    "Using all tens instead of all ones and the estimate moves to just 3.2 stars.\n",
    "\n",
    "Ideally, this is what Amazon should be doing when sorting by average rating to account for the uncertainty inherent in the items with only a few ratings.\n",
    "\n",
    "Note here that if we use the MLE estimate for each of the probabilities (this does not include prior information), we would get $(0,0,0,0,1)$ and again the average rating would be 5.\n",
    "A trick to get around this is to use a conservative estimate for each value from a simultaneous confidence interval for multinomial proportion.\n",
    "There are [several different methods](http://rpackages.ianhowson.com/cran/CoinMinD/) for computing these intervals and it can get pretty complicated.\n",
    "\n",
    "Meanwhile, the analytical expressions for the Bayesian method can be ugly, but as we've seen, we don't need them.\n",
    "We simply need to be able to simulate from the posterior to get accuarate estimates of the true proportions.\n",
    "\n",
    "## Conclusion\n",
    "\n",
    "* We saw that Bayesian inference can be a powerful and very general method for estimating parameters, while still being simple in principle.\n",
    "* The interpretation of Bayesian confidence intervals, as well as most other results, can be different even though the numbers end up the same.\n",
    "* We discussed likelihoods, choices of priors (briefly, with references) and posterior distributions.\n",
    "* We used MCMC, but didn't go into the details of how it works (maybe another time for that).\n",
    "* More data leads to less variation and less influence from the prior, so when there is a lot of data the Bayesian estimate can be very close to the frequentist one."
   ]
  },
  {
   "cell_type": "code",
   "execution_count": null,
   "metadata": {
    "collapsed": true
   },
   "outputs": [],
   "source": []
  }
 ],
 "metadata": {
  "kernelspec": {
   "display_name": "notebooks",
   "language": "python",
   "name": "python3"
  },
  "language_info": {
   "codemirror_mode": {
    "name": "ipython",
    "version": 3
   },
   "file_extension": ".py",
   "mimetype": "text/x-python",
   "name": "python",
   "nbconvert_exporter": "python",
   "pygments_lexer": "ipython3",
   "version": "3.5.1"
  },
  "widgets": {
   "state": {},
   "version": "1.1.2"
  }
 },
 "nbformat": 4,
 "nbformat_minor": 0
}
